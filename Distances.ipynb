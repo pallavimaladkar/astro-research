{
 "cells": [
  {
   "cell_type": "code",
   "execution_count": 4,
   "metadata": {},
   "outputs": [],
   "source": [
    "from astropy.table import Table\n",
    "from astropy.io import fits\n",
    "import numpy as np\n",
    "\n",
    "tab=fits.open('SCIENCE_RBNSPECTRA.fits');\n",
    "info= tab[1].data\n",
    "ra=info['RA']\n",
    "dec=info['DEC']\n",
    "names=info['object']\n",
    "\n",
    "# indices = [0,1,6,10,13,17,20,41,47,66,75,79,81,112,121]\n",
    "# raCut = []\n",
    "# decCut = []\n",
    "# namesCut = []\n",
    "\n",
    "# for i in range(len(indices)):\n",
    "#     raCut.append(ra[indices[i]])\n",
    "#     decCut.append(dec[indices[i]])\n",
    "#     namesCut.append(names[indices[i]])\n",
    "\n",
    "# parallax = [1.10,0.25,0.01,0.15,0.41,0.58,4.58,0.06,0.95,0.41,2.15,0.48,0.09,1.00,0.41]\n",
    "# parallax_error = [0.81,0.16,0.20,0.06,0.32,0.26,0.35,0.04,0.06,0.36,0.03,0.20,0.13,0.49,0.06]\n",
    "\n",
    "# distances=Table()\n",
    "\n",
    "# distances['index']=indices\n",
    "# distances['names']=namesCut\n",
    "# distances['RA']=raCut\n",
    "# distances['DEC']=decCut\n",
    "# distances['parallax']=parallax\n",
    "# distances['parallax_error']=parallax_error\n",
    "# distances['rest[pc]']=0*np.zeros(len(indices))\n",
    "# distances['rlo[pc]']=0*np.zeros(len(indices))\n",
    "# distances['rhi[pc]']=0*np.zeros(len(indices))\n",
    "# distances['rlen[pc]']=0*np.zeros(len(indices))\n",
    "# distances['result_flag']=0*np.zeros(len(indices))\n",
    "# distances['modality_flag']=0*np.zeros(len(indices))\n",
    "\n",
    "# distances.write('distances.txt',format='ascii',overwrite=True)"
   ]
  },
  {
   "cell_type": "code",
   "execution_count": 39,
   "metadata": {},
   "outputs": [],
   "source": [
    "# #EDIT ALL BELOW PARTS\n",
    "# index = 14\n",
    "# distances['rest[pc]'][index]=2287.235\n",
    "# distances['rlo[pc]'][index]=2013.682\n",
    "# distances['rhi[pc]'][index]=2636.764\n",
    "# distances['rlen[pc]'][index]=431.1911\n",
    "# distances['result_flag'][index]=1\n",
    "# distances['modality_flag'][index]=1\n",
    "\n",
    "# #THEN RUN\n",
    "# distances.write('distances.txt',format='ascii',overwrite=True)"
   ]
  },
  {
   "cell_type": "code",
   "execution_count": 1,
   "metadata": {},
   "outputs": [],
   "source": [
    "from astropy.table import Table\n",
    "T=Table.read('distances.txt',format='ascii')\n",
    "T.show_in_browser(jsviewer=True)"
   ]
  },
  {
   "cell_type": "code",
   "execution_count": 28,
   "metadata": {},
   "outputs": [
    {
     "data": {
      "text/plain": [
       "0.41"
      ]
     },
     "execution_count": 28,
     "metadata": {},
     "output_type": "execute_result"
    }
   ],
   "source": [
    "from astropy.table import Table\n",
    "T=Table.read('distances.txt',format='ascii')\n",
    "T['parallax'][9]"
   ]
  },
  {
   "cell_type": "code",
   "execution_count": null,
   "metadata": {},
   "outputs": [],
   "source": [
    "import numpy as np\n",
    "import matplotlib.pyplot as plt\n",
    "from astropy.io import fits\n",
    "#provides access to fits (flexible image transport system) files\n",
    "from matplotlib.pyplot import cm \n",
    "from astropy.wcs import WCS\n",
    "from astropy.table import Table\n",
    "#transformation from the real position of an object on the celestial sphere to the position on a cartesian plane\n",
    "%matplotlib inline\n",
    "\n",
    "path = \"/Users/PallaviMaladkar/Documents/Research/Flames_M83/\"\n",
    "dist = Table.read(path+'distances.txt',format='ascii')\n",
    "\n",
    "distances = dist['rest[pc]'] #putting distances into list\n",
    "indices = [0,1,6,10,13,17,20,41,47,66,75,79,81,112,121]\n"
   ]
  }
 ],
 "metadata": {
  "kernelspec": {
   "display_name": "Python 3",
   "language": "python",
   "name": "python3"
  },
  "language_info": {
   "codemirror_mode": {
    "name": "ipython",
    "version": 3
   },
   "file_extension": ".py",
   "mimetype": "text/x-python",
   "name": "python",
   "nbconvert_exporter": "python",
   "pygments_lexer": "ipython3",
   "version": "3.7.4"
  }
 },
 "nbformat": 4,
 "nbformat_minor": 2
}
